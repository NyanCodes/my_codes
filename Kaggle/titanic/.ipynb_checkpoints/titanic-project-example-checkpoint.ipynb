{
 "cells": [
  {
   "cell_type": "markdown",
   "metadata": {
    "papermill": {
     "duration": 0.04305,
     "end_time": "2021-04-08T02:17:55.268309",
     "exception": false,
     "start_time": "2021-04-08T02:17:55.225259",
     "status": "completed"
    },
    "tags": []
   },
   "source": [
    "# Titanic Project Example Walk Through \n",
    "In this notebook, I hope to show how a data scientist would go about working through a problem. The goal is to correctly predict if someone survived the Titanic shipwreck. I thought it would be fun to see how well I could do in this competition without deep learning. \n",
    "\n",
    "*The accompanying video is located here:* https://www.youtube.com/watch?v=I3FBJdiExcg\n",
    "\n",
    "**Best results : 79.425 % accuracy (Top 12%)**\n",
    "\n",
    "## Overview \n",
    "### 1) Understand the shape of the data (Histograms, box plots, etc.)\n",
    "\n",
    "### 2) Data Cleaning \n",
    "\n",
    "### 3) Data Exploration\n",
    "\n",
    "### 4) Feature Engineering \n",
    "\n",
    "### 5) Data Preprocessing for Model\n",
    "\n",
    "### 6) Basic Model Building \n",
    "\n",
    "### 7) Model Tuning \n",
    "\n",
    "### 8) Ensemble Modle Building \n",
    "\n",
    "### 9) Results "
   ]
  },
  {
   "cell_type": "code",
   "execution_count": 1,
   "metadata": {
    "_cell_guid": "b1076dfc-b9ad-4769-8c92-a6c4dae69d19",
    "_uuid": "8f2839f25d086af736a60e9eeb907d3b93b6e0e5",
    "execution": {
     "iopub.execute_input": "2021-04-08T02:17:55.359239Z",
     "iopub.status.busy": "2021-04-08T02:17:55.358492Z",
     "iopub.status.idle": "2021-04-08T02:17:56.257020Z",
     "shell.execute_reply": "2021-04-08T02:17:56.257858Z"
    },
    "papermill": {
     "duration": 0.948924,
     "end_time": "2021-04-08T02:17:56.258150",
     "exception": false,
     "start_time": "2021-04-08T02:17:55.309226",
     "status": "completed"
    },
    "tags": []
   },
   "outputs": [],
   "source": [
    "# This Python 3 environment comes with many helpful analytics libraries installed\n",
    "# It is defined by the kaggle/python Docker image: https://github.com/kaggle/docker-python\n",
    "# For example, here's several helpful packages to load\n",
    "\n",
    "import numpy as np # linear algebra\n",
    "import pandas as pd # data processing, CSV file I/O (e.g. pd.read_csv)\n",
    "import seaborn as sns \n",
    "import matplotlib.pyplot as plt\n",
    "# Input data files are available in the read-only \"../input/\" directory\n",
    "# For example, running this (by clicking run or pressing Shift+Enter) will list all files under the input directory\n",
    "\n",
    "import os\n",
    "for dirname, _, filenames in os.walk('/kaggle/input'):\n",
    "    for filename in filenames:\n",
    "        print(os.path.join(dirname, filename))\n",
    "        \n",
    "        \n",
    "# You can write up to 5GB to the current directory (/kaggle/working/) that gets preserved as output when you create a version using \"Save & Run All\" \n",
    "# You can also write temporary files to /kaggle/temp/, but they won't be saved outside of the current session"
   ]
  },
  {
   "cell_type": "markdown",
   "metadata": {
    "papermill": {
     "duration": 0.042884,
     "end_time": "2021-04-08T02:17:56.343687",
     "exception": false,
     "start_time": "2021-04-08T02:17:56.300803",
     "status": "completed"
    },
    "tags": []
   },
   "source": [
    "Here we import the data. For this analysis, we will be exclusively working with the Training set. We will be validating based on data from the training set as well. For our final submissions, we will make predictions based on the test set. "
   ]
  },
  {
   "cell_type": "code",
   "execution_count": 2,
   "metadata": {
    "execution": {
     "iopub.execute_input": "2021-04-08T02:17:56.438644Z",
     "iopub.status.busy": "2021-04-08T02:17:56.437908Z",
     "iopub.status.idle": "2021-04-08T02:17:56.487427Z",
     "shell.execute_reply": "2021-04-08T02:17:56.488017Z"
    },
    "papermill": {
     "duration": 0.102195,
     "end_time": "2021-04-08T02:17:56.488202",
     "exception": false,
     "start_time": "2021-04-08T02:17:56.386007",
     "status": "completed"
    },
    "tags": []
   },
   "outputs": [
    {
     "data": {
      "text/plain": [
       "Index(['PassengerId', 'Survived', 'Pclass', 'Name', 'Sex', 'Age', 'SibSp',\n",
       "       'Parch', 'Ticket', 'Fare', 'Cabin', 'Embarked', 'train_test'],\n",
       "      dtype='object')"
      ]
     },
     "execution_count": 2,
     "metadata": {},
     "output_type": "execute_result"
    }
   ],
   "source": [
    "training = pd.read_csv('train.csv')\n",
    "test = pd.read_csv('test.csv')\n",
    "\n",
    "training['train_test'] = 1\n",
    "test['train_test'] = 0\n",
    "test['Survived'] = np.NaN\n",
    "all_data = pd.concat([training,test])\n",
    "\n",
    "%matplotlib inline\n",
    "all_data.columns"
   ]
  },
  {
   "cell_type": "markdown",
   "metadata": {
    "papermill": {
     "duration": 0.042429,
     "end_time": "2021-04-08T02:17:56.573132",
     "exception": false,
     "start_time": "2021-04-08T02:17:56.530703",
     "status": "completed"
    },
    "tags": []
   },
   "source": [
    "## Project Planning\n",
    "When starting any project, I like to outline the steps that I plan to take. Below is the rough outline that I created for this project using commented cells. "
   ]
  },
  {
   "cell_type": "code",
   "execution_count": 3,
   "metadata": {
    "execution": {
     "iopub.execute_input": "2021-04-08T02:17:56.664518Z",
     "iopub.status.busy": "2021-04-08T02:17:56.663808Z",
     "iopub.status.idle": "2021-04-08T02:17:56.665909Z",
     "shell.execute_reply": "2021-04-08T02:17:56.666395Z"
    },
    "papermill": {
     "duration": 0.049737,
     "end_time": "2021-04-08T02:17:56.666547",
     "exception": false,
     "start_time": "2021-04-08T02:17:56.616810",
     "status": "completed"
    },
    "tags": []
   },
   "outputs": [],
   "source": [
    "# Understand nature of the data .info() .describe()\n",
    "# Histograms and boxplots \n",
    "# Value counts \n",
    "# Missing data \n",
    "# Correlation between the metrics \n",
    "# Explore interesting themes \n",
    "    # Wealthy survive? \n",
    "    # By location \n",
    "    # Age scatterplot with ticket price \n",
    "    # Young and wealthy Variable? \n",
    "    # Total spent? \n",
    "# Feature engineering \n",
    "# preprocess data together or use a transformer? \n",
    "    # use label for train and test   \n",
    "# Scaling?\n",
    "\n",
    "# Model Baseline \n",
    "# Model comparison with CV "
   ]
  },
  {
   "cell_type": "markdown",
   "metadata": {
    "papermill": {
     "duration": 0.042645,
     "end_time": "2021-04-08T02:17:56.751951",
     "exception": false,
     "start_time": "2021-04-08T02:17:56.709306",
     "status": "completed"
    },
    "tags": []
   },
   "source": [
    "## Light Data Exploration\n",
    "### 1) For numeric data \n",
    "* Made histograms to understand distributions \n",
    "* Corrplot \n",
    "* Pivot table comparing survival rate across numeric variables \n",
    "\n",
    "\n",
    "### 2) For Categorical Data \n",
    "* Made bar charts to understand balance of classes \n",
    "* Made pivot tables to understand relationship with survival "
   ]
  },
  {
   "cell_type": "code",
   "execution_count": 4,
   "metadata": {
    "execution": {
     "iopub.execute_input": "2021-04-08T02:17:56.841925Z",
     "iopub.status.busy": "2021-04-08T02:17:56.841258Z",
     "iopub.status.idle": "2021-04-08T02:17:56.854972Z",
     "shell.execute_reply": "2021-04-08T02:17:56.855757Z"
    },
    "papermill": {
     "duration": 0.061009,
     "end_time": "2021-04-08T02:17:56.855961",
     "exception": false,
     "start_time": "2021-04-08T02:17:56.794952",
     "status": "completed"
    },
    "tags": []
   },
   "outputs": [
    {
     "name": "stdout",
     "output_type": "stream",
     "text": [
      "<class 'pandas.core.frame.DataFrame'>\n",
      "RangeIndex: 891 entries, 0 to 890\n",
      "Data columns (total 13 columns):\n",
      " #   Column       Non-Null Count  Dtype  \n",
      "---  ------       --------------  -----  \n",
      " 0   PassengerId  891 non-null    int64  \n",
      " 1   Survived     891 non-null    int64  \n",
      " 2   Pclass       891 non-null    int64  \n",
      " 3   Name         891 non-null    object \n",
      " 4   Sex          891 non-null    object \n",
      " 5   Age          714 non-null    float64\n",
      " 6   SibSp        891 non-null    int64  \n",
      " 7   Parch        891 non-null    int64  \n",
      " 8   Ticket       891 non-null    object \n",
      " 9   Fare         891 non-null    float64\n",
      " 10  Cabin        204 non-null    object \n",
      " 11  Embarked     889 non-null    object \n",
      " 12  train_test   891 non-null    int64  \n",
      "dtypes: float64(2), int64(6), object(5)\n",
      "memory usage: 90.6+ KB\n"
     ]
    }
   ],
   "source": [
    "#quick look at our data types & null counts \n",
    "training.info()"
   ]
  },
  {
   "cell_type": "code",
   "execution_count": 5,
   "metadata": {
    "execution": {
     "iopub.execute_input": "2021-04-08T02:17:56.950357Z",
     "iopub.status.busy": "2021-04-08T02:17:56.949534Z",
     "iopub.status.idle": "2021-04-08T02:17:56.992972Z",
     "shell.execute_reply": "2021-04-08T02:17:56.992301Z"
    },
    "papermill": {
     "duration": 0.093537,
     "end_time": "2021-04-08T02:17:56.993089",
     "exception": false,
     "start_time": "2021-04-08T02:17:56.899552",
     "status": "completed"
    },
    "tags": []
   },
   "outputs": [
    {
     "data": {
      "text/html": [
       "<div>\n",
       "<style scoped>\n",
       "    .dataframe tbody tr th:only-of-type {\n",
       "        vertical-align: middle;\n",
       "    }\n",
       "\n",
       "    .dataframe tbody tr th {\n",
       "        vertical-align: top;\n",
       "    }\n",
       "\n",
       "    .dataframe thead th {\n",
       "        text-align: right;\n",
       "    }\n",
       "</style>\n",
       "<table border=\"1\" class=\"dataframe\">\n",
       "  <thead>\n",
       "    <tr style=\"text-align: right;\">\n",
       "      <th></th>\n",
       "      <th>PassengerId</th>\n",
       "      <th>Survived</th>\n",
       "      <th>Pclass</th>\n",
       "      <th>Age</th>\n",
       "      <th>SibSp</th>\n",
       "      <th>Parch</th>\n",
       "      <th>Fare</th>\n",
       "      <th>train_test</th>\n",
       "    </tr>\n",
       "  </thead>\n",
       "  <tbody>\n",
       "    <tr>\n",
       "      <th>count</th>\n",
       "      <td>891.000000</td>\n",
       "      <td>891.000000</td>\n",
       "      <td>891.000000</td>\n",
       "      <td>714.000000</td>\n",
       "      <td>891.000000</td>\n",
       "      <td>891.000000</td>\n",
       "      <td>891.000000</td>\n",
       "      <td>891.0</td>\n",
       "    </tr>\n",
       "    <tr>\n",
       "      <th>mean</th>\n",
       "      <td>446.000000</td>\n",
       "      <td>0.383838</td>\n",
       "      <td>2.308642</td>\n",
       "      <td>29.699118</td>\n",
       "      <td>0.523008</td>\n",
       "      <td>0.381594</td>\n",
       "      <td>32.204208</td>\n",
       "      <td>1.0</td>\n",
       "    </tr>\n",
       "    <tr>\n",
       "      <th>std</th>\n",
       "      <td>257.353842</td>\n",
       "      <td>0.486592</td>\n",
       "      <td>0.836071</td>\n",
       "      <td>14.526497</td>\n",
       "      <td>1.102743</td>\n",
       "      <td>0.806057</td>\n",
       "      <td>49.693429</td>\n",
       "      <td>0.0</td>\n",
       "    </tr>\n",
       "    <tr>\n",
       "      <th>min</th>\n",
       "      <td>1.000000</td>\n",
       "      <td>0.000000</td>\n",
       "      <td>1.000000</td>\n",
       "      <td>0.420000</td>\n",
       "      <td>0.000000</td>\n",
       "      <td>0.000000</td>\n",
       "      <td>0.000000</td>\n",
       "      <td>1.0</td>\n",
       "    </tr>\n",
       "    <tr>\n",
       "      <th>25%</th>\n",
       "      <td>223.500000</td>\n",
       "      <td>0.000000</td>\n",
       "      <td>2.000000</td>\n",
       "      <td>20.125000</td>\n",
       "      <td>0.000000</td>\n",
       "      <td>0.000000</td>\n",
       "      <td>7.910400</td>\n",
       "      <td>1.0</td>\n",
       "    </tr>\n",
       "    <tr>\n",
       "      <th>50%</th>\n",
       "      <td>446.000000</td>\n",
       "      <td>0.000000</td>\n",
       "      <td>3.000000</td>\n",
       "      <td>28.000000</td>\n",
       "      <td>0.000000</td>\n",
       "      <td>0.000000</td>\n",
       "      <td>14.454200</td>\n",
       "      <td>1.0</td>\n",
       "    </tr>\n",
       "    <tr>\n",
       "      <th>75%</th>\n",
       "      <td>668.500000</td>\n",
       "      <td>1.000000</td>\n",
       "      <td>3.000000</td>\n",
       "      <td>38.000000</td>\n",
       "      <td>1.000000</td>\n",
       "      <td>0.000000</td>\n",
       "      <td>31.000000</td>\n",
       "      <td>1.0</td>\n",
       "    </tr>\n",
       "    <tr>\n",
       "      <th>max</th>\n",
       "      <td>891.000000</td>\n",
       "      <td>1.000000</td>\n",
       "      <td>3.000000</td>\n",
       "      <td>80.000000</td>\n",
       "      <td>8.000000</td>\n",
       "      <td>6.000000</td>\n",
       "      <td>512.329200</td>\n",
       "      <td>1.0</td>\n",
       "    </tr>\n",
       "  </tbody>\n",
       "</table>\n",
       "</div>"
      ],
      "text/plain": [
       "       PassengerId    Survived      Pclass         Age       SibSp  \\\n",
       "count   891.000000  891.000000  891.000000  714.000000  891.000000   \n",
       "mean    446.000000    0.383838    2.308642   29.699118    0.523008   \n",
       "std     257.353842    0.486592    0.836071   14.526497    1.102743   \n",
       "min       1.000000    0.000000    1.000000    0.420000    0.000000   \n",
       "25%     223.500000    0.000000    2.000000   20.125000    0.000000   \n",
       "50%     446.000000    0.000000    3.000000   28.000000    0.000000   \n",
       "75%     668.500000    1.000000    3.000000   38.000000    1.000000   \n",
       "max     891.000000    1.000000    3.000000   80.000000    8.000000   \n",
       "\n",
       "            Parch        Fare  train_test  \n",
       "count  891.000000  891.000000       891.0  \n",
       "mean     0.381594   32.204208         1.0  \n",
       "std      0.806057   49.693429         0.0  \n",
       "min      0.000000    0.000000         1.0  \n",
       "25%      0.000000    7.910400         1.0  \n",
       "50%      0.000000   14.454200         1.0  \n",
       "75%      0.000000   31.000000         1.0  \n",
       "max      6.000000  512.329200         1.0  "
      ]
     },
     "execution_count": 5,
     "metadata": {},
     "output_type": "execute_result"
    }
   ],
   "source": [
    "# to better understand the numeric data, we want to use the .describe() method. This gives us an understanding of the central tendencies of the data \n",
    "training.describe()"
   ]
  },
  {
   "cell_type": "code",
   "execution_count": 6,
   "metadata": {
    "execution": {
     "iopub.execute_input": "2021-04-08T02:17:57.093567Z",
     "iopub.status.busy": "2021-04-08T02:17:57.092811Z",
     "iopub.status.idle": "2021-04-08T02:17:57.113231Z",
     "shell.execute_reply": "2021-04-08T02:17:57.113736Z"
    },
    "papermill": {
     "duration": 0.076822,
     "end_time": "2021-04-08T02:17:57.113984",
     "exception": false,
     "start_time": "2021-04-08T02:17:57.037162",
     "status": "completed"
    },
    "tags": []
   },
   "outputs": [
    {
     "data": {
      "text/plain": [
       "Index(['PassengerId', 'Survived', 'Pclass', 'Age', 'SibSp', 'Parch', 'Fare',\n",
       "       'train_test'],\n",
       "      dtype='object')"
      ]
     },
     "execution_count": 6,
     "metadata": {},
     "output_type": "execute_result"
    }
   ],
   "source": [
    "#quick way to separate numeric columns\n",
    "training.describe().columns"
   ]
  },
  {
   "cell_type": "code",
   "execution_count": 7,
   "metadata": {
    "execution": {
     "iopub.execute_input": "2021-04-08T02:17:57.216761Z",
     "iopub.status.busy": "2021-04-08T02:17:57.215991Z",
     "iopub.status.idle": "2021-04-08T02:17:57.223469Z",
     "shell.execute_reply": "2021-04-08T02:17:57.224020Z"
    },
    "papermill": {
     "duration": 0.063987,
     "end_time": "2021-04-08T02:17:57.224236",
     "exception": false,
     "start_time": "2021-04-08T02:17:57.160249",
     "status": "completed"
    },
    "tags": []
   },
   "outputs": [],
   "source": [
    "# look at numeric and categorical values separately \n",
    "df_num = training[['Age','SibSp','Parch','Fare']]\n",
    "df_cat = training[['Survived','Pclass','Sex','Ticket','Cabin','Embarked']]"
   ]
  },
  {
   "cell_type": "code",
   "execution_count": 8,
   "metadata": {
    "execution": {
     "iopub.execute_input": "2021-04-08T02:17:57.318963Z",
     "iopub.status.busy": "2021-04-08T02:17:57.317924Z",
     "iopub.status.idle": "2021-04-08T02:17:58.063608Z",
     "shell.execute_reply": "2021-04-08T02:17:58.062769Z"
    },
    "papermill": {
     "duration": 0.79348,
     "end_time": "2021-04-08T02:17:58.063750",
     "exception": false,
     "start_time": "2021-04-08T02:17:57.270270",
     "status": "completed"
    },
    "tags": []
   },
   "outputs": [
    {
     "data": {
      "image/png": "[encoded data removed]",
      "text/plain": [
       "<Figure size 432x288 with 1 Axes>"
      ]
     },
     "metadata": {
      "needs_background": "light"
     },
     "output_type": "display_data"
    },
    {
     "data": {
      "image/png": "[encoded data removed]",
      "text/plain": [
       "<Figure size 432x288 with 1 Axes>"
      ]
     },
     "metadata": {
      "needs_background": "light"
     },
     "output_type": "display_data"
    },
    {
     "data": {
      "image/png": "[encoded data removed]",
      "text/plain": [
       "<Figure size 432x288 with 1 Axes>"
      ]
     },
     "metadata": {
      "needs_background": "light"
     },
     "output_type": "display_data"
    },
    {
     "data": {
      "image/png": "[encoded data removed]",
      "text/plain": [
       "<Figure size 432x288 with 1 Axes>"
      ]
     },
     "metadata": {
      "needs_background": "light"
     },
     "output_type": "display_data"
    }
   ],
   "source": [
    "#distributions for all numeric variables \n",
    "for i in df_num.columns:\n",
    "    plt.hist(df_num[i])\n",
    "    plt.title(i)\n",
    "    plt.show()"
   ]
  },
  {
   "cell_type": "markdown",
   "metadata": {
    "papermill": {
     "duration": 0.047574,
     "end_time": "2021-04-08T02:17:58.159574",
     "exception": false,
     "start_time": "2021-04-08T02:17:58.112000",
     "status": "completed"
    },
    "tags": []
   },
   "source": [
    "Perhaps we should take the non-normal distributions and consider normalizing them?"
   ]
  },
  {
   "cell_type": "markdown",
   "metadata": {
    "papermill": {
     "duration": 0.047,
     "end_time": "2021-04-08T02:17:58.254960",
     "exception": false,
     "start_time": "2021-04-08T02:17:58.207960",
     "status": "completed"
    },
    "tags": []
   },
   "source": [
    "\n"
   ]
  },
  {
   "cell_type": "code",
   "execution_count": 9,
   "metadata": {
    "execution": {
     "iopub.execute_input": "2021-04-08T02:17:58.363187Z",
     "iopub.status.busy": "2021-04-08T02:17:58.361005Z",
     "iopub.status.idle": "2021-04-08T02:17:58.608344Z",
     "shell.execute_reply": "2021-04-08T02:17:58.607680Z"
    },
    "papermill": {
     "duration": 0.306386,
     "end_time": "2021-04-08T02:17:58.608484",
     "exception": false,
     "start_time": "2021-04-08T02:17:58.302098",
     "status": "completed"
    },
    "tags": []
   },
   "outputs": [
    {
     "name": "stdout",
     "output_type": "stream",
     "text": [
      "            Age     SibSp     Parch      Fare\n",
      "Age    1.000000 -0.308247 -0.189119  0.096067\n",
      "SibSp -0.308247  1.000000  0.414838  0.159651\n",
      "Parch -0.189119  0.414838  1.000000  0.216225\n",
      "Fare   0.096067  0.159651  0.216225  1.000000\n"
     ]
    },
    {
     "data": {
      "text/plain": [
       "<AxesSubplot: >"
      ]
     },
     "execution_count": 9,
     "metadata": {},
     "output_type": "execute_result"
    },
    {
     "data": {
      "image/png": "[encoded data removed]",
      "text/plain": [
       "<Figure size 432x288 with 2 Axes>"
      ]
     },
     "metadata": {
      "needs_background": "light"
     },
     "output_type": "display_data"
    }
   ],
   "source": [
    "print(df_num.corr())\n",
    "sns.heatmap(df_num.corr())"
   ]
  },
  {
   "cell_type": "code",
   "execution_count": 10,
   "metadata": {
    "execution": {
     "iopub.execute_input": "2021-04-08T02:17:58.735610Z",
     "iopub.status.busy": "2021-04-08T02:17:58.734729Z",
     "iopub.status.idle": "2021-04-08T02:17:58.740895Z",
     "shell.execute_reply": "2021-04-08T02:17:58.740303Z"
    },
    "papermill": {
     "duration": 0.083636,
     "end_time": "2021-04-08T02:17:58.741016",
     "exception": false,
     "start_time": "2021-04-08T02:17:58.657380",
     "status": "completed"
    },
    "tags": []
   },
   "outputs": [
    {
     "data": {
      "text/html": [
       "<div>\n",
       "<style scoped>\n",
       "    .dataframe tbody tr th:only-of-type {\n",
       "        vertical-align: middle;\n",
       "    }\n",
       "\n",
       "    .dataframe tbody tr th {\n",
       "        vertical-align: top;\n",
       "    }\n",
       "\n",
       "    .dataframe thead th {\n",
       "        text-align: right;\n",
       "    }\n",
       "</style>\n",
       "<table border=\"1\" class=\"dataframe\">\n",
       "  <thead>\n",
       "    <tr style=\"text-align: right;\">\n",
       "      <th></th>\n",
       "      <th>Age</th>\n",
       "      <th>Fare</th>\n",
       "      <th>Parch</th>\n",
       "      <th>SibSp</th>\n",
       "    </tr>\n",
       "    <tr>\n",
       "      <th>Survived</th>\n",
       "      <th></th>\n",
       "      <th></th>\n",
       "      <th></th>\n",
       "      <th></th>\n",
       "    </tr>\n",
       "  </thead>\n",
       "  <tbody>\n",
       "    <tr>\n",
       "      <th>0</th>\n",
       "      <td>30.626179</td>\n",
       "      <td>22.117887</td>\n",
       "      <td>0.329690</td>\n",
       "      <td>0.553734</td>\n",
       "    </tr>\n",
       "    <tr>\n",
       "      <th>1</th>\n",
       "      <td>28.343690</td>\n",
       "      <td>48.395408</td>\n",
       "      <td>0.464912</td>\n",
       "      <td>0.473684</td>\n",
       "    </tr>\n",
       "  </tbody>\n",
       "</table>\n",
       "</div>"
      ],
      "text/plain": [
       "                Age       Fare     Parch     SibSp\n",
       "Survived                                          \n",
       "0         30.626179  22.117887  0.329690  0.553734\n",
       "1         28.343690  48.395408  0.464912  0.473684"
      ]
     },
     "execution_count": 10,
     "metadata": {},
     "output_type": "execute_result"
    }
   ],
   "source": [
    "# compare survival rate across Age, SibSp, Parch, and Fare \n",
    "pd.pivot_table(training, index = 'Survived', values = ['Age','SibSp','Parch','Fare'])"
   ]
  },
  {
   "cell_type": "markdown",
   "metadata": {
    "papermill": {
     "duration": 0.053573,
     "end_time": "2021-04-08T02:18:09.141535",
     "exception": false,
     "start_time": "2021-04-08T02:18:09.087962",
     "status": "completed"
    },
    "tags": []
   },
   "source": [
    "Cabin and ticket graphs are very messy. This is an area where we may want to do some feature engineering! "
   ]
  },
  {
   "cell_type": "code",
   "execution_count": 14,
   "metadata": {
    "execution": {
     "iopub.execute_input": "2021-04-08T02:18:09.252051Z",
     "iopub.status.busy": "2021-04-08T02:18:09.251347Z",
     "iopub.status.idle": "2021-04-08T02:18:09.304652Z",
     "shell.execute_reply": "2021-04-08T02:18:09.303892Z"
    },
    "papermill": {
     "duration": 0.109849,
     "end_time": "2021-04-08T02:18:09.304793",
     "exception": false,
     "start_time": "2021-04-08T02:18:09.194944",
     "status": "completed"
    },
    "tags": []
   },
   "outputs": [
    {
     "name": "stdout",
     "output_type": "stream",
     "text": [
      "Pclass      1   2    3\n",
      "Survived              \n",
      "0          80  97  372\n",
      "1         136  87  119\n",
      "\n",
      "Sex       female  male\n",
      "Survived              \n",
      "0             81   468\n",
      "1            233   109\n",
      "\n",
      "Embarked   C   Q    S\n",
      "Survived             \n",
      "0         75  47  427\n",
      "1         93  30  217\n"
     ]
    }
   ],
   "source": [
    "# Comparing survival and each of these categorical variables \n",
    "print(pd.pivot_table(training, index = 'Survived', columns = 'Pclass', values = 'Ticket' ,aggfunc ='count'))\n",
    "print()\n",
    "print(pd.pivot_table(training, index = 'Survived', columns = 'Sex', values = 'Ticket' ,aggfunc ='count'))\n",
    "print()\n",
    "print(pd.pivot_table(training, index = 'Survived', columns = 'Embarked', values = 'Ticket' ,aggfunc ='count'))"
   ]
  },
  {
   "cell_type": "markdown",
   "metadata": {
    "papermill": {
     "duration": 0.053703,
     "end_time": "2021-04-08T02:18:09.412768",
     "exception": false,
     "start_time": "2021-04-08T02:18:09.359065",
     "status": "completed"
    },
    "tags": []
   },
   "source": [
    "## Feature Engineering \n",
    "### 1) Cabin - Simplify cabins (evaluated if cabin letter (cabin_adv) or the purchase of tickets across multiple cabins (cabin_multiple) impacted survival)\n",
    "\n",
    "### 2) Tickets - Do different ticket types impact survival rates?\n",
    "\n",
    "### 3) Does a person's title relate to survival rates? "
   ]
  },
  {
   "cell_type": "code",
   "execution_count": null,
   "metadata": {
    "execution": {
     "iopub.execute_input": "2021-04-08T02:18:09.543581Z",
     "iopub.status.busy": "2021-04-08T02:18:09.542454Z",
     "iopub.status.idle": "2021-04-08T02:18:09.552393Z",
     "shell.execute_reply": "2021-04-08T02:18:09.553255Z"
    },
    "papermill": {
     "duration": 0.086488,
     "end_time": "2021-04-08T02:18:09.553477",
     "exception": false,
     "start_time": "2021-04-08T02:18:09.466989",
     "status": "completed"
    },
    "tags": []
   },
   "outputs": [],
   "source": [
    "df_cat.Cabin\n",
    "training['cabin_multiple'] = training.Cabin.apply(lambda x: 0 if pd.isna(x) else len(x.split(' ')))\n",
    "# after looking at this, we may want to look at cabin by letter or by number. Let's create some categories for this \n",
    "# letters \n",
    "# multiple letters \n",
    "training['cabin_multiple'].value_counts()"
   ]
  },
  {
   "cell_type": "code",
   "execution_count": null,
   "metadata": {
    "execution": {
     "iopub.execute_input": "2021-04-08T02:18:09.689215Z",
     "iopub.status.busy": "2021-04-08T02:18:09.688417Z",
     "iopub.status.idle": "2021-04-08T02:18:09.721614Z",
     "shell.execute_reply": "2021-04-08T02:18:09.720900Z"
    },
    "papermill": {
     "duration": 0.107595,
     "end_time": "2021-04-08T02:18:09.721736",
     "exception": false,
     "start_time": "2021-04-08T02:18:09.614141",
     "status": "completed"
    },
    "tags": []
   },
   "outputs": [],
   "source": [
    "pd.pivot_table(training, index = 'Survived', columns = 'cabin_multiple', values = 'Ticket' ,aggfunc ='count')"
   ]
  },
  {
   "cell_type": "code",
   "execution_count": null,
   "metadata": {
    "execution": {
     "iopub.execute_input": "2021-04-08T02:18:09.861466Z",
     "iopub.status.busy": "2021-04-08T02:18:09.860498Z",
     "iopub.status.idle": "2021-04-08T02:18:09.864614Z",
     "shell.execute_reply": "2021-04-08T02:18:09.863719Z"
    },
    "papermill": {
     "duration": 0.083654,
     "end_time": "2021-04-08T02:18:09.864790",
     "exception": false,
     "start_time": "2021-04-08T02:18:09.781136",
     "status": "completed"
    },
    "tags": []
   },
   "outputs": [],
   "source": [
    "#creates categories based on the cabin letter (n stands for null)\n",
    "#in this case we will treat null values like it's own category\n",
    "\n",
    "training['cabin_adv'] = training.Cabin.apply(lambda x: str(x)[0])\n"
   ]
  },
  {
   "cell_type": "code",
   "execution_count": null,
   "metadata": {
    "execution": {
     "iopub.execute_input": "2021-04-08T02:18:10.005154Z",
     "iopub.status.busy": "2021-04-08T02:18:10.002483Z",
     "iopub.status.idle": "2021-04-08T02:18:10.025734Z",
     "shell.execute_reply": "2021-04-08T02:18:10.024999Z"
    },
    "papermill": {
     "duration": 0.097835,
     "end_time": "2021-04-08T02:18:10.025860",
     "exception": false,
     "start_time": "2021-04-08T02:18:09.928025",
     "status": "completed"
    },
    "tags": []
   },
   "outputs": [],
   "source": [
    "#comparing surivial rate by cabin\n",
    "print(training.cabin_adv.value_counts())\n",
    "pd.pivot_table(training,index='Survived',columns='cabin_adv', values = 'Name', aggfunc='count')"
   ]
  },
  {
   "cell_type": "code",
   "execution_count": null,
   "metadata": {
    "execution": {
     "iopub.execute_input": "2021-04-08T02:18:10.145341Z",
     "iopub.status.busy": "2021-04-08T02:18:10.144609Z",
     "iopub.status.idle": "2021-04-08T02:18:10.161089Z",
     "shell.execute_reply": "2021-04-08T02:18:10.160408Z"
    },
    "papermill": {
     "duration": 0.077826,
     "end_time": "2021-04-08T02:18:10.161246",
     "exception": false,
     "start_time": "2021-04-08T02:18:10.083420",
     "status": "completed"
    },
    "tags": []
   },
   "outputs": [],
   "source": [
    "#understand ticket values better \n",
    "#numeric vs non numeric \n",
    "training['numeric_ticket'] = training.Ticket.apply(lambda x: 1 if x.isnumeric() else 0)\n",
    "training['ticket_letters'] = training.Ticket.apply(lambda x: ''.join(x.split(' ')[:-1]).replace('.','').replace('/','').lower() if len(x.split(' ')[:-1]) >0 else 0)\n"
   ]
  },
  {
   "cell_type": "code",
   "execution_count": null,
   "metadata": {
    "execution": {
     "iopub.execute_input": "2021-04-08T02:18:10.290321Z",
     "iopub.status.busy": "2021-04-08T02:18:10.289200Z",
     "iopub.status.idle": "2021-04-08T02:18:10.293662Z",
     "shell.execute_reply": "2021-04-08T02:18:10.294254Z"
    },
    "papermill": {
     "duration": 0.072043,
     "end_time": "2021-04-08T02:18:10.294412",
     "exception": false,
     "start_time": "2021-04-08T02:18:10.222369",
     "status": "completed"
    },
    "tags": []
   },
   "outputs": [],
   "source": [
    "training['numeric_ticket'].value_counts()"
   ]
  },
  {
   "cell_type": "code",
   "execution_count": null,
   "metadata": {
    "execution": {
     "iopub.execute_input": "2021-04-08T02:18:10.415308Z",
     "iopub.status.busy": "2021-04-08T02:18:10.414526Z",
     "iopub.status.idle": "2021-04-08T02:18:10.425505Z",
     "shell.execute_reply": "2021-04-08T02:18:10.424926Z"
    },
    "papermill": {
     "duration": 0.072387,
     "end_time": "2021-04-08T02:18:10.425642",
     "exception": false,
     "start_time": "2021-04-08T02:18:10.353255",
     "status": "completed"
    },
    "tags": []
   },
   "outputs": [],
   "source": [
    "#lets us view all rows in dataframe through scrolling. This is for convenience \n",
    "pd.set_option(\"max_rows\", None)\n",
    "training['ticket_letters'].value_counts()\n"
   ]
  },
  {
   "cell_type": "code",
   "execution_count": null,
   "metadata": {
    "execution": {
     "iopub.execute_input": "2021-04-08T02:18:10.550061Z",
     "iopub.status.busy": "2021-04-08T02:18:10.549373Z",
     "iopub.status.idle": "2021-04-08T02:18:10.567793Z",
     "shell.execute_reply": "2021-04-08T02:18:10.567225Z"
    },
    "papermill": {
     "duration": 0.084609,
     "end_time": "2021-04-08T02:18:10.567924",
     "exception": false,
     "start_time": "2021-04-08T02:18:10.483315",
     "status": "completed"
    },
    "tags": []
   },
   "outputs": [],
   "source": [
    "#difference in numeric vs non-numeric tickets in survival rate \n",
    "pd.pivot_table(training,index='Survived',columns='numeric_ticket', values = 'Ticket', aggfunc='count')"
   ]
  },
  {
   "cell_type": "code",
   "execution_count": null,
   "metadata": {
    "execution": {
     "iopub.execute_input": "2021-04-08T02:18:10.704389Z",
     "iopub.status.busy": "2021-04-08T02:18:10.703616Z",
     "iopub.status.idle": "2021-04-08T02:18:10.731558Z",
     "shell.execute_reply": "2021-04-08T02:18:10.730957Z"
    },
    "papermill": {
     "duration": 0.10419,
     "end_time": "2021-04-08T02:18:10.731690",
     "exception": false,
     "start_time": "2021-04-08T02:18:10.627500",
     "status": "completed"
    },
    "tags": []
   },
   "outputs": [],
   "source": [
    "#survival rate across different tyicket types \n",
    "pd.pivot_table(training,index='Survived',columns='ticket_letters', values = 'Ticket', aggfunc='count')"
   ]
  },
  {
   "cell_type": "code",
   "execution_count": null,
   "metadata": {
    "execution": {
     "iopub.execute_input": "2021-04-08T02:18:10.859814Z",
     "iopub.status.busy": "2021-04-08T02:18:10.859122Z",
     "iopub.status.idle": "2021-04-08T02:18:10.862694Z",
     "shell.execute_reply": "2021-04-08T02:18:10.862002Z"
    },
    "papermill": {
     "duration": 0.071769,
     "end_time": "2021-04-08T02:18:10.862816",
     "exception": false,
     "start_time": "2021-04-08T02:18:10.791047",
     "status": "completed"
    },
    "tags": []
   },
   "outputs": [],
   "source": [
    "#feature engineering on person's title \n",
    "training.Name.head(50)\n",
    "training['name_title'] = training.Name.apply(lambda x: x.split(',')[1].split('.')[0].strip())\n",
    "#mr., ms., master. etc"
   ]
  },
  {
   "cell_type": "code",
   "execution_count": null,
   "metadata": {
    "execution": {
     "iopub.execute_input": "2021-04-08T02:18:10.985423Z",
     "iopub.status.busy": "2021-04-08T02:18:10.984702Z",
     "iopub.status.idle": "2021-04-08T02:18:10.993061Z",
     "shell.execute_reply": "2021-04-08T02:18:10.993652Z"
    },
    "papermill": {
     "duration": 0.071288,
     "end_time": "2021-04-08T02:18:10.993807",
     "exception": false,
     "start_time": "2021-04-08T02:18:10.922519",
     "status": "completed"
    },
    "tags": []
   },
   "outputs": [],
   "source": [
    "training['name_title'].value_counts()"
   ]
  },
  {
   "cell_type": "markdown",
   "metadata": {
    "papermill": {
     "duration": 0.059406,
     "end_time": "2021-04-08T02:18:11.114621",
     "exception": false,
     "start_time": "2021-04-08T02:18:11.055215",
     "status": "completed"
    },
    "tags": []
   },
   "source": [
    "## Data Preprocessing for Model \n",
    "### 1) Drop null values from Embarked (only 2) \n",
    "\n",
    "### 2) Include only relevant variables (Since we have limited data, I wanted to exclude things like name and passanger ID so that we could have a reasonable number of features for our models to deal with) \n",
    "Variables:  'Pclass', 'Sex','Age', 'SibSp', 'Parch', 'Fare', 'Embarked', 'cabin_adv', 'cabin_multiple', 'numeric_ticket', 'name_title'\n",
    "\n",
    "### 3) Do categorical transforms on all data. Usually we would use a transformer, but with this approach we can ensure that our traning and test data have the same colums. We also may be able to infer something about the shape of the test data through this method. I will stress, this is generally not recommend outside of a competition (use onehot encoder). \n",
    "\n",
    "### 4) Impute data with mean for fare and age (Should also experiment with median) \n",
    "\n",
    "### 5) Normalized fare using logarithm to give more semblance of a normal distribution \n",
    "\n",
    "### 6) Scaled data 0-1 with standard scaler \n"
   ]
  },
  {
   "cell_type": "code",
   "execution_count": null,
   "metadata": {
    "execution": {
     "iopub.execute_input": "2021-04-08T02:18:11.252332Z",
     "iopub.status.busy": "2021-04-08T02:18:11.251194Z",
     "iopub.status.idle": "2021-04-08T02:18:11.527173Z",
     "shell.execute_reply": "2021-04-08T02:18:11.526485Z"
    },
    "papermill": {
     "duration": 0.353508,
     "end_time": "2021-04-08T02:18:11.527301",
     "exception": false,
     "start_time": "2021-04-08T02:18:11.173793",
     "status": "completed"
    },
    "tags": []
   },
   "outputs": [],
   "source": [
    "#create all categorical variables that we did above for both training and test sets \n",
    "all_data['cabin_multiple'] = all_data.Cabin.apply(lambda x: 0 if pd.isna(x) else len(x.split(' ')))\n",
    "all_data['cabin_adv'] = all_data.Cabin.apply(lambda x: str(x)[0])\n",
    "all_data['numeric_ticket'] = all_data.Ticket.apply(lambda x: 1 if x.isnumeric() else 0)\n",
    "all_data['ticket_letters'] = all_data.Ticket.apply(lambda x: ''.join(x.split(' ')[:-1]).replace('.','').replace('/','').lower() if len(x.split(' ')[:-1]) >0 else 0)\n",
    "all_data['name_title'] = all_data.Name.apply(lambda x: x.split(',')[1].split('.')[0].strip())\n",
    "\n",
    "#impute nulls for continuous data \n",
    "#all_data.Age = all_data.Age.fillna(training.Age.mean())\n",
    "all_data.Age = all_data.Age.fillna(training.Age.median())\n",
    "#all_data.Fare = all_data.Fare.fillna(training.Fare.mean())\n",
    "all_data.Fare = all_data.Fare.fillna(training.Fare.median())\n",
    "\n",
    "#drop null 'embarked' rows. Only 2 instances of this in training and 0 in test \n",
    "all_data.dropna(subset=['Embarked'],inplace = True)\n",
    "\n",
    "#tried log norm of sibsp (not used)\n",
    "all_data['norm_sibsp'] = np.log(all_data.SibSp+1)\n",
    "all_data['norm_sibsp'].hist()\n",
    "\n",
    "# log norm of fare (used)\n",
    "all_data['norm_fare'] = np.log(all_data.Fare+1)\n",
    "all_data['norm_fare'].hist()\n",
    "\n",
    "# converted fare to category for pd.get_dummies()\n",
    "all_data.Pclass = all_data.Pclass.astype(str)\n",
    "\n",
    "#created dummy variables from categories (also can use OneHotEncoder)\n",
    "all_dummies = pd.get_dummies(all_data[['Pclass','Sex','Age','SibSp','Parch','norm_fare','Embarked','cabin_adv','cabin_multiple','numeric_ticket','name_title','train_test']])\n",
    "\n",
    "#Split to train test again\n",
    "X_train = all_dummies[all_dummies.train_test == 1].drop(['train_test'], axis =1)\n",
    "X_test = all_dummies[all_dummies.train_test == 0].drop(['train_test'], axis =1)\n",
    "\n",
    "\n",
    "y_train = all_data[all_data.train_test==1].Survived\n",
    "y_train.shape"
   ]
  },
  {
   "cell_type": "code",
   "execution_count": null,
   "metadata": {
    "execution": {
     "iopub.execute_input": "2021-04-08T02:18:11.657587Z",
     "iopub.status.busy": "2021-04-08T02:18:11.656666Z",
     "iopub.status.idle": "2021-04-08T02:18:11.744532Z",
     "shell.execute_reply": "2021-04-08T02:18:11.743757Z"
    },
    "papermill": {
     "duration": 0.157076,
     "end_time": "2021-04-08T02:18:11.744680",
     "exception": false,
     "start_time": "2021-04-08T02:18:11.587604",
     "status": "completed"
    },
    "tags": []
   },
   "outputs": [],
   "source": [
    "# Scale data \n",
    "from sklearn.preprocessing import StandardScaler\n",
    "scale = StandardScaler()\n",
    "all_dummies_scaled = all_dummies.copy()\n",
    "all_dummies_scaled[['Age','SibSp','Parch','norm_fare']]= scale.fit_transform(all_dummies_scaled[['Age','SibSp','Parch','norm_fare']])\n",
    "all_dummies_scaled\n",
    "\n",
    "X_train_scaled = all_dummies_scaled[all_dummies_scaled.train_test == 1].drop(['train_test'], axis =1)\n",
    "X_test_scaled = all_dummies_scaled[all_dummies_scaled.train_test == 0].drop(['train_test'], axis =1)\n",
    "\n",
    "y_train = all_data[all_data.train_test==1].Survived\n"
   ]
  },
  {
   "cell_type": "markdown",
   "metadata": {
    "papermill": {
     "duration": 0.06091,
     "end_time": "2021-04-08T02:18:11.866824",
     "exception": false,
     "start_time": "2021-04-08T02:18:11.805914",
     "status": "completed"
    },
    "tags": []
   },
   "source": [
    "## Model Building (Baseline Validation Performance)\n",
    "Before going further, I like to see how various different models perform with default parameters. I tried the following models using 5 fold cross validation to get a baseline. With a validation set basline, we can see how much tuning improves each of the models. Just because a model has a high basline on this validation set doesn't mean that it will actually do better on the eventual test set. \n",
    "\n",
    "- Naive Bayes (72.6%)\n",
    "- Logistic Regression (82.1%)\n",
    "- Decision Tree (77.6%)\n",
    "- K Nearest Neighbor (80.5%)\n",
    "- Random Forest (80.6%)\n",
    "- **Support Vector Classifier (83.2%)**\n",
    "- Xtreme Gradient Boosting (81.8%)\n",
    "- Soft Voting Classifier - All Models (82.8%)"
   ]
  },
  {
   "cell_type": "code",
   "execution_count": null,
   "metadata": {
    "execution": {
     "iopub.execute_input": "2021-04-08T02:18:11.996278Z",
     "iopub.status.busy": "2021-04-08T02:18:11.995421Z",
     "iopub.status.idle": "2021-04-08T02:18:12.610672Z",
     "shell.execute_reply": "2021-04-08T02:18:12.609977Z"
    },
    "papermill": {
     "duration": 0.68261,
     "end_time": "2021-04-08T02:18:12.610823",
     "exception": false,
     "start_time": "2021-04-08T02:18:11.928213",
     "status": "completed"
    },
    "tags": []
   },
   "outputs": [],
   "source": [
    "from sklearn.model_selection import cross_val_score\n",
    "from sklearn.naive_bayes import GaussianNB\n",
    "from sklearn.linear_model import LogisticRegression\n",
    "from sklearn import tree\n",
    "from sklearn.neighbors import KNeighborsClassifier\n",
    "from sklearn.ensemble import RandomForestClassifier\n",
    "from sklearn.svm import SVC"
   ]
  },
  {
   "cell_type": "code",
   "execution_count": null,
   "metadata": {
    "execution": {
     "iopub.execute_input": "2021-04-08T02:18:12.747966Z",
     "iopub.status.busy": "2021-04-08T02:18:12.746899Z",
     "iopub.status.idle": "2021-04-08T02:18:12.793036Z",
     "shell.execute_reply": "2021-04-08T02:18:12.792423Z"
    },
    "papermill": {
     "duration": 0.116259,
     "end_time": "2021-04-08T02:18:12.793173",
     "exception": false,
     "start_time": "2021-04-08T02:18:12.676914",
     "status": "completed"
    },
    "tags": []
   },
   "outputs": [],
   "source": [
    "#I usually use Naive Bayes as a baseline for my classification tasks \n",
    "gnb = GaussianNB()\n",
    "cv = cross_val_score(gnb,X_train_scaled,y_train,cv=5)\n",
    "print(cv)\n",
    "print(cv.mean())"
   ]
  },
  {
   "cell_type": "code",
   "execution_count": null,
   "metadata": {
    "execution": {
     "iopub.execute_input": "2021-04-08T02:18:12.924244Z",
     "iopub.status.busy": "2021-04-08T02:18:12.921508Z",
     "iopub.status.idle": "2021-04-08T02:18:13.544577Z",
     "shell.execute_reply": "2021-04-08T02:18:13.543223Z"
    },
    "papermill": {
     "duration": 0.690405,
     "end_time": "2021-04-08T02:18:13.544770",
     "exception": false,
     "start_time": "2021-04-08T02:18:12.854365",
     "status": "completed"
    },
    "tags": []
   },
   "outputs": [],
   "source": [
    "lr = LogisticRegression(max_iter = 2000)\n",
    "cv = cross_val_score(lr,X_train,y_train,cv=5)\n",
    "print(cv)\n",
    "print(cv.mean())"
   ]
  },
  {
   "cell_type": "code",
   "execution_count": null,
   "metadata": {
    "execution": {
     "iopub.execute_input": "2021-04-08T02:18:13.682901Z",
     "iopub.status.busy": "2021-04-08T02:18:13.681713Z",
     "iopub.status.idle": "2021-04-08T02:18:13.838057Z",
     "shell.execute_reply": "2021-04-08T02:18:13.837494Z"
    },
    "papermill": {
     "duration": 0.2272,
     "end_time": "2021-04-08T02:18:13.838212",
     "exception": false,
     "start_time": "2021-04-08T02:18:13.611012",
     "status": "completed"
    },
    "tags": []
   },
   "outputs": [],
   "source": [
    "lr = LogisticRegression(max_iter = 2000)\n",
    "cv = cross_val_score(lr,X_train_scaled,y_train,cv=5)\n",
    "print(cv)\n",
    "print(cv.mean())"
   ]
  },
  {
   "cell_type": "code",
   "execution_count": null,
   "metadata": {
    "execution": {
     "iopub.execute_input": "2021-04-08T02:18:13.981040Z",
     "iopub.status.busy": "2021-04-08T02:18:13.979942Z",
     "iopub.status.idle": "2021-04-08T02:18:14.044577Z",
     "shell.execute_reply": "2021-04-08T02:18:14.045168Z"
    },
    "papermill": {
     "duration": 0.139409,
     "end_time": "2021-04-08T02:18:14.045353",
     "exception": false,
     "start_time": "2021-04-08T02:18:13.905944",
     "status": "completed"
    },
    "tags": []
   },
   "outputs": [],
   "source": [
    "dt = tree.DecisionTreeClassifier(random_state = 1)\n",
    "cv = cross_val_score(dt,X_train,y_train,cv=5)\n",
    "print(cv)\n",
    "print(cv.mean())"
   ]
  },
  {
   "cell_type": "code",
   "execution_count": null,
   "metadata": {
    "execution": {
     "iopub.execute_input": "2021-04-08T02:18:14.234013Z",
     "iopub.status.busy": "2021-04-08T02:18:14.232844Z",
     "iopub.status.idle": "2021-04-08T02:18:14.291021Z",
     "shell.execute_reply": "2021-04-08T02:18:14.291645Z"
    },
    "papermill": {
     "duration": 0.180119,
     "end_time": "2021-04-08T02:18:14.291821",
     "exception": false,
     "start_time": "2021-04-08T02:18:14.111702",
     "status": "completed"
    },
    "tags": []
   },
   "outputs": [],
   "source": [
    "dt = tree.DecisionTreeClassifier(random_state = 1)\n",
    "cv = cross_val_score(dt,X_train_scaled,y_train,cv=5)\n",
    "print(cv)\n",
    "print(cv.mean())"
   ]
  },
  {
   "cell_type": "code",
   "execution_count": null,
   "metadata": {
    "execution": {
     "iopub.execute_input": "2021-04-08T02:18:14.430925Z",
     "iopub.status.busy": "2021-04-08T02:18:14.430190Z",
     "iopub.status.idle": "2021-04-08T02:18:14.538954Z",
     "shell.execute_reply": "2021-04-08T02:18:14.538352Z"
    },
    "papermill": {
     "duration": 0.181607,
     "end_time": "2021-04-08T02:18:14.539080",
     "exception": false,
     "start_time": "2021-04-08T02:18:14.357473",
     "status": "completed"
    },
    "tags": []
   },
   "outputs": [],
   "source": [
    "knn = KNeighborsClassifier()\n",
    "cv = cross_val_score(knn,X_train,y_train,cv=5)\n",
    "print(cv)\n",
    "print(cv.mean())"
   ]
  },
  {
   "cell_type": "code",
   "execution_count": null,
   "metadata": {
    "execution": {
     "iopub.execute_input": "2021-04-08T02:18:14.680996Z",
     "iopub.status.busy": "2021-04-08T02:18:14.679821Z",
     "iopub.status.idle": "2021-04-08T02:18:14.798546Z",
     "shell.execute_reply": "2021-04-08T02:18:14.797823Z"
    },
    "papermill": {
     "duration": 0.193664,
     "end_time": "2021-04-08T02:18:14.798673",
     "exception": false,
     "start_time": "2021-04-08T02:18:14.605009",
     "status": "completed"
    },
    "tags": []
   },
   "outputs": [],
   "source": [
    "knn = KNeighborsClassifier()\n",
    "cv = cross_val_score(knn,X_train_scaled,y_train,cv=5)\n",
    "print(cv)\n",
    "print(cv.mean())"
   ]
  },
  {
   "cell_type": "code",
   "execution_count": null,
   "metadata": {
    "execution": {
     "iopub.execute_input": "2021-04-08T02:18:14.937725Z",
     "iopub.status.busy": "2021-04-08T02:18:14.936989Z",
     "iopub.status.idle": "2021-04-08T02:18:16.254965Z",
     "shell.execute_reply": "2021-04-08T02:18:16.254125Z"
    },
    "papermill": {
     "duration": 1.391199,
     "end_time": "2021-04-08T02:18:16.255151",
     "exception": false,
     "start_time": "2021-04-08T02:18:14.863952",
     "status": "completed"
    },
    "tags": []
   },
   "outputs": [],
   "source": [
    "rf = RandomForestClassifier(random_state = 1)\n",
    "cv = cross_val_score(rf,X_train,y_train,cv=5)\n",
    "print(cv)\n",
    "print(cv.mean())"
   ]
  },
  {
   "cell_type": "code",
   "execution_count": null,
   "metadata": {
    "execution": {
     "iopub.execute_input": "2021-04-08T02:18:16.395334Z",
     "iopub.status.busy": "2021-04-08T02:18:16.393488Z",
     "iopub.status.idle": "2021-04-08T02:18:17.714949Z",
     "shell.execute_reply": "2021-04-08T02:18:17.714144Z"
    },
    "papermill": {
     "duration": 1.394734,
     "end_time": "2021-04-08T02:18:17.715078",
     "exception": false,
     "start_time": "2021-04-08T02:18:16.320344",
     "status": "completed"
    },
    "tags": []
   },
   "outputs": [],
   "source": [
    "rf = RandomForestClassifier(random_state = 1)\n",
    "cv = cross_val_score(rf,X_train_scaled,y_train,cv=5)\n",
    "print(cv)\n",
    "print(cv.mean())"
   ]
  },
  {
   "cell_type": "code",
   "execution_count": null,
   "metadata": {
    "execution": {
     "iopub.execute_input": "2021-04-08T02:18:17.854891Z",
     "iopub.status.busy": "2021-04-08T02:18:17.853644Z",
     "iopub.status.idle": "2021-04-08T02:18:18.652888Z",
     "shell.execute_reply": "2021-04-08T02:18:18.652295Z"
    },
    "papermill": {
     "duration": 0.870702,
     "end_time": "2021-04-08T02:18:18.653030",
     "exception": false,
     "start_time": "2021-04-08T02:18:17.782328",
     "status": "completed"
    },
    "tags": []
   },
   "outputs": [],
   "source": [
    "svc = SVC(probability = True)\n",
    "cv = cross_val_score(svc,X_train_scaled,y_train,cv=5)\n",
    "print(cv)\n",
    "print(cv.mean())"
   ]
  },
  {
   "cell_type": "code",
   "execution_count": null,
   "metadata": {
    "execution": {
     "iopub.execute_input": "2021-04-08T02:18:18.793029Z",
     "iopub.status.busy": "2021-04-08T02:18:18.792362Z",
     "iopub.status.idle": "2021-04-08T02:18:20.198311Z",
     "shell.execute_reply": "2021-04-08T02:18:20.199172Z"
    },
    "papermill": {
     "duration": 1.479682,
     "end_time": "2021-04-08T02:18:20.199363",
     "exception": false,
     "start_time": "2021-04-08T02:18:18.719681",
     "status": "completed"
    },
    "tags": []
   },
   "outputs": [],
   "source": [
    "from xgboost import XGBClassifier\n",
    "xgb = XGBClassifier(random_state =1)\n",
    "cv = cross_val_score(xgb,X_train_scaled,y_train,cv=5)\n",
    "print(cv)\n",
    "print(cv.mean())"
   ]
  },
  {
   "cell_type": "code",
   "execution_count": null,
   "metadata": {
    "execution": {
     "iopub.execute_input": "2021-04-08T02:18:20.390999Z",
     "iopub.status.busy": "2021-04-08T02:18:20.390276Z",
     "iopub.status.idle": "2021-04-08T02:18:20.392765Z",
     "shell.execute_reply": "2021-04-08T02:18:20.393275Z"
    },
    "papermill": {
     "duration": 0.105104,
     "end_time": "2021-04-08T02:18:20.393438",
     "exception": false,
     "start_time": "2021-04-08T02:18:20.288334",
     "status": "completed"
    },
    "tags": []
   },
   "outputs": [],
   "source": [
    "#Voting classifier takes all of the inputs and averages the results. For a \"hard\" voting classifier each classifier gets 1 vote \"yes\" or \"no\" and the result is just a popular vote. For this, you generally want odd numbers\n",
    "#A \"soft\" classifier averages the confidence of each of the models. If a the average confidence is > 50% that it is a 1 it will be counted as such\n",
    "from sklearn.ensemble import VotingClassifier\n",
    "voting_clf = VotingClassifier(estimators = [('lr',lr),('knn',knn),('rf',rf),('gnb',gnb),('svc',svc),('xgb',xgb)], voting = 'soft') "
   ]
  },
  {
   "cell_type": "code",
   "execution_count": null,
   "metadata": {
    "execution": {
     "iopub.execute_input": "2021-04-08T02:18:20.529700Z",
     "iopub.status.busy": "2021-04-08T02:18:20.529004Z",
     "iopub.status.idle": "2021-04-08T02:18:23.732737Z",
     "shell.execute_reply": "2021-04-08T02:18:23.733465Z"
    },
    "papermill": {
     "duration": 3.274068,
     "end_time": "2021-04-08T02:18:23.733655",
     "exception": false,
     "start_time": "2021-04-08T02:18:20.459587",
     "status": "completed"
    },
    "tags": []
   },
   "outputs": [],
   "source": [
    "cv = cross_val_score(voting_clf,X_train_scaled,y_train,cv=5)\n",
    "print(cv)\n",
    "print(cv.mean())"
   ]
  },
  {
   "cell_type": "code",
   "execution_count": null,
   "metadata": {
    "execution": {
     "iopub.execute_input": "2021-04-08T02:18:23.921079Z",
     "iopub.status.busy": "2021-04-08T02:18:23.920254Z",
     "iopub.status.idle": "2021-04-08T02:18:24.652544Z",
     "shell.execute_reply": "2021-04-08T02:18:24.653279Z"
    },
    "papermill": {
     "duration": 0.828597,
     "end_time": "2021-04-08T02:18:24.653467",
     "exception": false,
     "start_time": "2021-04-08T02:18:23.824870",
     "status": "completed"
    },
    "tags": []
   },
   "outputs": [],
   "source": [
    "voting_clf.fit(X_train_scaled,y_train)\n",
    "y_hat_base_vc = voting_clf.predict(X_test_scaled).astype(int)\n",
    "basic_submission = {'PassengerId': test.PassengerId, 'Survived': y_hat_base_vc}\n",
    "base_submission = pd.DataFrame(data=basic_submission)\n",
    "base_submission.to_csv('base_submission.csv', index=False)"
   ]
  },
  {
   "cell_type": "markdown",
   "metadata": {
    "papermill": {
     "duration": 0.086488,
     "end_time": "2021-04-08T02:18:24.829470",
     "exception": false,
     "start_time": "2021-04-08T02:18:24.742982",
     "status": "completed"
    },
    "tags": []
   },
   "source": [
    "## Model Tuned Performance \n",
    "After getting the baselines, let's see if we can improve on the indivdual model results!I mainly used grid search to tune the models. I also used Randomized Search for the Random Forest and XG boosted model to simplify testing time. \n",
    "\n",
    "|Model|Baseline|Tuned Performance|\n",
    "|-----|--------|-----------------|\n",
    "|Naive Bayes| 72.6%| NA|\n",
    "|Logistic Regression| 82.1%| 82.6%|\n",
    "|Decision Tree| 77.6%| NA|\n",
    "|K Nearest Neighbor| 80.5%|83.0%|\n",
    "|Random Forest| 80.6%| 83.6|\n",
    "|Support Vector Classifier| 83.2%| 83.2%|\n",
    "|Xtreme Gradient Boosting| 81.8%| 85.3%|\n"
   ]
  },
  {
   "cell_type": "code",
   "execution_count": null,
   "metadata": {
    "execution": {
     "iopub.execute_input": "2021-04-08T02:18:24.971911Z",
     "iopub.status.busy": "2021-04-08T02:18:24.971235Z",
     "iopub.status.idle": "2021-04-08T02:18:24.973389Z",
     "shell.execute_reply": "2021-04-08T02:18:24.973876Z"
    },
    "papermill": {
     "duration": 0.075419,
     "end_time": "2021-04-08T02:18:24.974045",
     "exception": false,
     "start_time": "2021-04-08T02:18:24.898626",
     "status": "completed"
    },
    "tags": []
   },
   "outputs": [],
   "source": [
    "from sklearn.model_selection import GridSearchCV \n",
    "from sklearn.model_selection import RandomizedSearchCV "
   ]
  },
  {
   "cell_type": "code",
   "execution_count": null,
   "metadata": {
    "execution": {
     "iopub.execute_input": "2021-04-08T02:18:25.114510Z",
     "iopub.status.busy": "2021-04-08T02:18:25.113778Z",
     "iopub.status.idle": "2021-04-08T02:18:25.119701Z",
     "shell.execute_reply": "2021-04-08T02:18:25.119133Z"
    },
    "papermill": {
     "duration": 0.076897,
     "end_time": "2021-04-08T02:18:25.119829",
     "exception": false,
     "start_time": "2021-04-08T02:18:25.042932",
     "status": "completed"
    },
    "tags": []
   },
   "outputs": [],
   "source": [
    "#simple performance reporting function\n",
    "def clf_performance(classifier, model_name):\n",
    "    print(model_name)\n",
    "    print('Best Score: ' + str(classifier.best_score_))\n",
    "    print('Best Parameters: ' + str(classifier.best_params_))"
   ]
  },
  {
   "cell_type": "code",
   "execution_count": null,
   "metadata": {
    "execution": {
     "iopub.execute_input": "2021-04-08T02:18:25.258286Z",
     "iopub.status.busy": "2021-04-08T02:18:25.257563Z",
     "iopub.status.idle": "2021-04-08T02:18:28.900200Z",
     "shell.execute_reply": "2021-04-08T02:18:28.900981Z"
    },
    "papermill": {
     "duration": 3.714077,
     "end_time": "2021-04-08T02:18:28.901225",
     "exception": false,
     "start_time": "2021-04-08T02:18:25.187148",
     "status": "completed"
    },
    "tags": []
   },
   "outputs": [],
   "source": [
    "lr = LogisticRegression()\n",
    "param_grid = {'max_iter' : [2000],\n",
    "              'penalty' : ['l1', 'l2'],\n",
    "              'C' : np.logspace(-4, 4, 20),\n",
    "              'solver' : ['liblinear']}\n",
    "\n",
    "clf_lr = GridSearchCV(lr, param_grid = param_grid, cv = 5, verbose = True, n_jobs = -1)\n",
    "best_clf_lr = clf_lr.fit(X_train_scaled,y_train)\n",
    "clf_performance(best_clf_lr,'Logistic Regression')"
   ]
  },
  {
   "cell_type": "code",
   "execution_count": null,
   "metadata": {
    "execution": {
     "iopub.execute_input": "2021-04-08T02:18:29.055559Z",
     "iopub.status.busy": "2021-04-08T02:18:29.054509Z",
     "iopub.status.idle": "2021-04-08T02:18:31.146022Z",
     "shell.execute_reply": "2021-04-08T02:18:31.145416Z"
    },
    "papermill": {
     "duration": 2.174362,
     "end_time": "2021-04-08T02:18:31.146172",
     "exception": false,
     "start_time": "2021-04-08T02:18:28.971810",
     "status": "completed"
    },
    "tags": []
   },
   "outputs": [],
   "source": [
    "knn = KNeighborsClassifier()\n",
    "param_grid = {'n_neighbors' : [3,5,7,9],\n",
    "              'weights' : ['uniform', 'distance'],\n",
    "              'algorithm' : ['auto', 'ball_tree','kd_tree'],\n",
    "              'p' : [1,2]}\n",
    "clf_knn = GridSearchCV(knn, param_grid = param_grid, cv = 5, verbose = True, n_jobs = -1)\n",
    "best_clf_knn = clf_knn.fit(X_train_scaled,y_train)\n",
    "clf_performance(best_clf_knn,'KNN')"
   ]
  },
  {
   "cell_type": "code",
   "execution_count": null,
   "metadata": {
    "execution": {
     "iopub.execute_input": "2021-04-08T02:18:31.300533Z",
     "iopub.status.busy": "2021-04-08T02:18:31.299377Z",
     "iopub.status.idle": "2021-04-08T02:21:54.517481Z",
     "shell.execute_reply": "2021-04-08T02:21:54.516866Z"
    },
    "papermill": {
     "duration": 203.30052,
     "end_time": "2021-04-08T02:21:54.517609",
     "exception": false,
     "start_time": "2021-04-08T02:18:31.217089",
     "status": "completed"
    },
    "tags": []
   },
   "outputs": [],
   "source": [
    "svc = SVC(probability = True)\n",
    "param_grid = tuned_parameters = [{'kernel': ['rbf'], 'gamma': [.1,.5,1,2,5,10],\n",
    "                                  'C': [.1, 1, 10, 100, 1000]},\n",
    "                                 {'kernel': ['linear'], 'C': [.1, 1, 10, 100, 1000]},\n",
    "                                 {'kernel': ['poly'], 'degree' : [2,3,4,5], 'C': [.1, 1, 10, 100, 1000]}]\n",
    "clf_svc = GridSearchCV(svc, param_grid = param_grid, cv = 5, verbose = True, n_jobs = -1)\n",
    "best_clf_svc = clf_svc.fit(X_train_scaled,y_train)\n",
    "clf_performance(best_clf_svc,'SVC')"
   ]
  },
  {
   "cell_type": "code",
   "execution_count": null,
   "metadata": {
    "execution": {
     "iopub.execute_input": "2021-04-08T02:21:54.690610Z",
     "iopub.status.busy": "2021-04-08T02:21:54.689479Z",
     "iopub.status.idle": "2021-04-08T02:21:54.698176Z",
     "shell.execute_reply": "2021-04-08T02:21:54.699044Z"
    },
    "papermill": {
     "duration": 0.095206,
     "end_time": "2021-04-08T02:21:54.699289",
     "exception": false,
     "start_time": "2021-04-08T02:21:54.604083",
     "status": "completed"
    },
    "tags": []
   },
   "outputs": [],
   "source": [
    "#Because the total feature space is so large, I used a randomized search to narrow down the paramters for the model. I took the best model from this and did a more granular search \n",
    "\"\"\"\n",
    "rf = RandomForestClassifier(random_state = 1)\n",
    "param_grid =  {'n_estimators': [100,500,1000], \n",
    "                                  'bootstrap': [True,False],\n",
    "                                  'max_depth': [3,5,10,20,50,75,100,None],\n",
    "                                  'max_features': ['auto','sqrt'],\n",
    "                                  'min_samples_leaf': [1,2,4,10],\n",
    "                                  'min_samples_split': [2,5,10]}\n",
    "                                  \n",
    "clf_rf_rnd = RandomizedSearchCV(rf, param_distributions = param_grid, n_iter = 100, cv = 5, verbose = True, n_jobs = -1)\n",
    "best_clf_rf_rnd = clf_rf_rnd.fit(X_train_scaled,y_train)\n",
    "clf_performance(best_clf_rf_rnd,'Random Forest')\"\"\""
   ]
  },
  {
   "cell_type": "code",
   "execution_count": null,
   "metadata": {
    "execution": {
     "iopub.execute_input": "2021-04-08T02:21:54.874056Z",
     "iopub.status.busy": "2021-04-08T02:21:54.873328Z",
     "iopub.status.idle": "2021-04-08T02:34:09.081839Z",
     "shell.execute_reply": "2021-04-08T02:34:09.081037Z"
    },
    "papermill": {
     "duration": 734.299889,
     "end_time": "2021-04-08T02:34:09.081978",
     "exception": false,
     "start_time": "2021-04-08T02:21:54.782089",
     "status": "completed"
    },
    "tags": []
   },
   "outputs": [],
   "source": [
    "rf = RandomForestClassifier(random_state = 1)\n",
    "param_grid =  {'n_estimators': [400,450,500,550],\n",
    "               'criterion':['gini','entropy'],\n",
    "                                  'bootstrap': [True],\n",
    "                                  'max_depth': [15, 20, 25],\n",
    "                                  'max_features': ['auto','sqrt', 10],\n",
    "                                  'min_samples_leaf': [2,3],\n",
    "                                  'min_samples_split': [2,3]}\n",
    "                                  \n",
    "clf_rf = GridSearchCV(rf, param_grid = param_grid, cv = 5, verbose = True, n_jobs = -1)\n",
    "best_clf_rf = clf_rf.fit(X_train_scaled,y_train)\n",
    "clf_performance(best_clf_rf,'Random Forest')"
   ]
  },
  {
   "cell_type": "code",
   "execution_count": null,
   "metadata": {
    "execution": {
     "iopub.execute_input": "2021-04-08T02:34:09.255947Z",
     "iopub.status.busy": "2021-04-08T02:34:09.255211Z",
     "iopub.status.idle": "2021-04-08T02:34:10.985577Z",
     "shell.execute_reply": "2021-04-08T02:34:10.984846Z"
    },
    "papermill": {
     "duration": 1.820886,
     "end_time": "2021-04-08T02:34:10.985703",
     "exception": false,
     "start_time": "2021-04-08T02:34:09.164817",
     "status": "completed"
    },
    "tags": []
   },
   "outputs": [],
   "source": [
    "best_rf = best_clf_rf.best_estimator_.fit(X_train_scaled,y_train)\n",
    "feat_importances = pd.Series(best_rf.feature_importances_, index=X_train_scaled.columns)\n",
    "feat_importances.nlargest(20).plot(kind='barh')"
   ]
  },
  {
   "cell_type": "code",
   "execution_count": null,
   "metadata": {
    "execution": {
     "iopub.execute_input": "2021-04-08T02:34:11.156773Z",
     "iopub.status.busy": "2021-04-08T02:34:11.155638Z",
     "iopub.status.idle": "2021-04-08T02:34:11.160765Z",
     "shell.execute_reply": "2021-04-08T02:34:11.160083Z"
    },
    "papermill": {
     "duration": 0.093552,
     "end_time": "2021-04-08T02:34:11.160884",
     "exception": false,
     "start_time": "2021-04-08T02:34:11.067332",
     "status": "completed"
    },
    "tags": []
   },
   "outputs": [],
   "source": [
    "\"\"\"xgb = XGBClassifier(random_state = 1)\n",
    "\n",
    "param_grid = {\n",
    "    'n_estimators': [20, 50, 100, 250, 500,1000],\n",
    "    'colsample_bytree': [0.2, 0.5, 0.7, 0.8, 1],\n",
    "    'max_depth': [2, 5, 10, 15, 20, 25, None],\n",
    "    'reg_alpha': [0, 0.5, 1],\n",
    "    'reg_lambda': [1, 1.5, 2],\n",
    "    'subsample': [0.5,0.6,0.7, 0.8, 0.9],\n",
    "    'learning_rate':[.01,0.1,0.2,0.3,0.5, 0.7, 0.9],\n",
    "    'gamma':[0,.01,.1,1,10,100],\n",
    "    'min_child_weight':[0,.01,0.1,1,10,100],\n",
    "    'sampling_method': ['uniform', 'gradient_based']\n",
    "}\n",
    "\n",
    "#clf_xgb = GridSearchCV(xgb, param_grid = param_grid, cv = 5, verbose = True, n_jobs = -1)\n",
    "#best_clf_xgb = clf_xgb.fit(X_train_scaled,y_train)\n",
    "#clf_performance(best_clf_xgb,'XGB')\n",
    "clf_xgb_rnd = RandomizedSearchCV(xgb, param_distributions = param_grid, n_iter = 1000, cv = 5, verbose = True, n_jobs = -1)\n",
    "best_clf_xgb_rnd = clf_xgb_rnd.fit(X_train_scaled,y_train)\n",
    "clf_performance(best_clf_xgb_rnd,'XGB')\"\"\""
   ]
  },
  {
   "cell_type": "code",
   "execution_count": null,
   "metadata": {
    "execution": {
     "iopub.execute_input": "2021-04-08T02:34:11.336909Z",
     "iopub.status.busy": "2021-04-08T02:34:11.335701Z",
     "iopub.status.idle": "2021-04-08T02:41:02.813806Z",
     "shell.execute_reply": "2021-04-08T02:41:02.815726Z"
    },
    "papermill": {
     "duration": 411.573365,
     "end_time": "2021-04-08T02:41:02.816001",
     "exception": false,
     "start_time": "2021-04-08T02:34:11.242636",
     "status": "completed"
    },
    "tags": []
   },
   "outputs": [],
   "source": [
    "xgb = XGBClassifier(random_state = 1)\n",
    "\n",
    "param_grid = {\n",
    "    'n_estimators': [450,500,550],\n",
    "    'colsample_bytree': [0.75,0.8,0.85],\n",
    "    'max_depth': [None],\n",
    "    'reg_alpha': [1],\n",
    "    'reg_lambda': [2, 5, 10],\n",
    "    'subsample': [0.55, 0.6, .65],\n",
    "    'learning_rate':[0.5],\n",
    "    'gamma':[.5,1,2],\n",
    "    'min_child_weight':[0.01],\n",
    "    'sampling_method': ['uniform']\n",
    "}\n",
    "\n",
    "clf_xgb = GridSearchCV(xgb, param_grid = param_grid, cv = 5, verbose = True, n_jobs = -1)\n",
    "best_clf_xgb = clf_xgb.fit(X_train_scaled,y_train)\n",
    "clf_performance(best_clf_xgb,'XGB')\n"
   ]
  },
  {
   "cell_type": "code",
   "execution_count": null,
   "metadata": {
    "execution": {
     "iopub.execute_input": "2021-04-08T02:41:03.042660Z",
     "iopub.status.busy": "2021-04-08T02:41:03.041421Z",
     "iopub.status.idle": "2021-04-08T02:41:03.054507Z",
     "shell.execute_reply": "2021-04-08T02:41:03.055313Z"
    },
    "papermill": {
     "duration": 0.125162,
     "end_time": "2021-04-08T02:41:03.055524",
     "exception": false,
     "start_time": "2021-04-08T02:41:02.930362",
     "status": "completed"
    },
    "tags": []
   },
   "outputs": [],
   "source": [
    "y_hat_xgb = best_clf_xgb.best_estimator_.predict(X_test_scaled).astype(int)\n",
    "xgb_submission = {'PassengerId': test.PassengerId, 'Survived': y_hat_xgb}\n",
    "submission_xgb = pd.DataFrame(data=xgb_submission)\n",
    "submission_xgb.to_csv('xgb_submission3.csv', index=False)"
   ]
  },
  {
   "cell_type": "markdown",
   "metadata": {
    "papermill": {
     "duration": 0.106813,
     "end_time": "2021-04-08T02:41:03.285744",
     "exception": false,
     "start_time": "2021-04-08T02:41:03.178931",
     "status": "completed"
    },
    "tags": []
   },
   "source": [
    "## Model Additional Ensemble Approaches \n",
    "1) Experimented with a hard voting classifier of three estimators (KNN, SVM, RF) (81.6%)\n",
    "\n",
    "2) **Experimented with a soft voting classifier of three estimators (KNN, SVM, RF) (82.3%) (Best Performance)**\n",
    "\n",
    "3) Experimented with soft voting on all estimators performing better than 80% except xgb (KNN, RF, LR, SVC) (82.9%)\n",
    "\n",
    "4) Experimented with soft voting on all estimators including XGB (KNN, SVM, RF, LR, XGB) (83.5%)"
   ]
  },
  {
   "cell_type": "code",
   "execution_count": null,
   "metadata": {
    "execution": {
     "iopub.execute_input": "2021-04-08T02:41:03.480830Z",
     "iopub.status.busy": "2021-04-08T02:41:03.480067Z",
     "iopub.status.idle": "2021-04-08T02:42:15.284726Z",
     "shell.execute_reply": "2021-04-08T02:42:15.285543Z"
    },
    "papermill": {
     "duration": 71.911354,
     "end_time": "2021-04-08T02:42:15.285769",
     "exception": false,
     "start_time": "2021-04-08T02:41:03.374415",
     "status": "completed"
    },
    "tags": []
   },
   "outputs": [],
   "source": [
    "best_lr = best_clf_lr.best_estimator_\n",
    "best_knn = best_clf_knn.best_estimator_\n",
    "best_svc = best_clf_svc.best_estimator_\n",
    "best_rf = best_clf_rf.best_estimator_\n",
    "best_xgb = best_clf_xgb.best_estimator_\n",
    "\n",
    "voting_clf_hard = VotingClassifier(estimators = [('knn',best_knn),('rf',best_rf),('svc',best_svc)], voting = 'hard') \n",
    "voting_clf_soft = VotingClassifier(estimators = [('knn',best_knn),('rf',best_rf),('svc',best_svc)], voting = 'soft') \n",
    "voting_clf_all = VotingClassifier(estimators = [('knn',best_knn),('rf',best_rf),('svc',best_svc), ('lr', best_lr)], voting = 'soft') \n",
    "voting_clf_xgb = VotingClassifier(estimators = [('knn',best_knn),('rf',best_rf),('svc',best_svc), ('xgb', best_xgb),('lr', best_lr)], voting = 'soft')\n",
    "\n",
    "print('voting_clf_hard :',cross_val_score(voting_clf_hard,X_train,y_train,cv=5))\n",
    "print('voting_clf_hard mean :',cross_val_score(voting_clf_hard,X_train,y_train,cv=5).mean())\n",
    "\n",
    "print('voting_clf_soft :',cross_val_score(voting_clf_soft,X_train,y_train,cv=5))\n",
    "print('voting_clf_soft mean :',cross_val_score(voting_clf_soft,X_train,y_train,cv=5).mean())\n",
    "\n",
    "print('voting_clf_all :',cross_val_score(voting_clf_all,X_train,y_train,cv=5))\n",
    "print('voting_clf_all mean :',cross_val_score(voting_clf_all,X_train,y_train,cv=5).mean())\n",
    "\n",
    "print('voting_clf_xgb :',cross_val_score(voting_clf_xgb,X_train,y_train,cv=5))\n",
    "print('voting_clf_xgb mean :',cross_val_score(voting_clf_xgb,X_train,y_train,cv=5).mean())\n"
   ]
  },
  {
   "cell_type": "code",
   "execution_count": null,
   "metadata": {
    "execution": {
     "iopub.execute_input": "2021-04-08T02:42:15.484275Z",
     "iopub.status.busy": "2021-04-08T02:42:15.482974Z",
     "iopub.status.idle": "2021-04-08T02:42:40.084905Z",
     "shell.execute_reply": "2021-04-08T02:42:40.084337Z"
    },
    "papermill": {
     "duration": 24.69752,
     "end_time": "2021-04-08T02:42:40.085045",
     "exception": false,
     "start_time": "2021-04-08T02:42:15.387525",
     "status": "completed"
    },
    "tags": []
   },
   "outputs": [],
   "source": [
    "#in a soft voting classifier you can weight some models more than others. I used a grid search to explore different weightings\n",
    "#no new results here\n",
    "params = {'weights' : [[1,1,1],[1,2,1],[1,1,2],[2,1,1],[2,2,1],[1,2,2],[2,1,2]]}\n",
    "\n",
    "vote_weight = GridSearchCV(voting_clf_soft, param_grid = params, cv = 5, verbose = True, n_jobs = -1)\n",
    "best_clf_weight = vote_weight.fit(X_train_scaled,y_train)\n",
    "clf_performance(best_clf_weight,'VC Weights')\n",
    "voting_clf_sub = best_clf_weight.best_estimator_.predict(X_test_scaled)\n"
   ]
  },
  {
   "cell_type": "code",
   "execution_count": null,
   "metadata": {
    "execution": {
     "iopub.execute_input": "2021-04-08T02:42:40.266278Z",
     "iopub.status.busy": "2021-04-08T02:42:40.265238Z",
     "iopub.status.idle": "2021-04-08T02:42:49.513167Z",
     "shell.execute_reply": "2021-04-08T02:42:49.512360Z"
    },
    "papermill": {
     "duration": 9.341398,
     "end_time": "2021-04-08T02:42:49.513337",
     "exception": false,
     "start_time": "2021-04-08T02:42:40.171939",
     "status": "completed"
    },
    "tags": []
   },
   "outputs": [],
   "source": [
    "#Make Predictions \n",
    "voting_clf_hard.fit(X_train_scaled, y_train)\n",
    "voting_clf_soft.fit(X_train_scaled, y_train)\n",
    "voting_clf_all.fit(X_train_scaled, y_train)\n",
    "voting_clf_xgb.fit(X_train_scaled, y_train)\n",
    "\n",
    "best_rf.fit(X_train_scaled, y_train)\n",
    "y_hat_vc_hard = voting_clf_hard.predict(X_test_scaled).astype(int)\n",
    "y_hat_rf = best_rf.predict(X_test_scaled).astype(int)\n",
    "y_hat_vc_soft =  voting_clf_soft.predict(X_test_scaled).astype(int)\n",
    "y_hat_vc_all = voting_clf_all.predict(X_test_scaled).astype(int)\n",
    "y_hat_vc_xgb = voting_clf_xgb.predict(X_test_scaled).astype(int)"
   ]
  },
  {
   "cell_type": "code",
   "execution_count": null,
   "metadata": {
    "execution": {
     "iopub.execute_input": "2021-04-08T02:42:49.761666Z",
     "iopub.status.busy": "2021-04-08T02:42:49.760914Z",
     "iopub.status.idle": "2021-04-08T02:42:49.763995Z",
     "shell.execute_reply": "2021-04-08T02:42:49.764684Z"
    },
    "papermill": {
     "duration": 0.124776,
     "end_time": "2021-04-08T02:42:49.764866",
     "exception": false,
     "start_time": "2021-04-08T02:42:49.640090",
     "status": "completed"
    },
    "tags": []
   },
   "outputs": [],
   "source": [
    "#convert output to dataframe \n",
    "final_data = {'PassengerId': test.PassengerId, 'Survived': y_hat_rf}\n",
    "submission = pd.DataFrame(data=final_data)\n",
    "\n",
    "final_data_2 = {'PassengerId': test.PassengerId, 'Survived': y_hat_vc_hard}\n",
    "submission_2 = pd.DataFrame(data=final_data_2)\n",
    "\n",
    "final_data_3 = {'PassengerId': test.PassengerId, 'Survived': y_hat_vc_soft}\n",
    "submission_3 = pd.DataFrame(data=final_data_3)\n",
    "\n",
    "final_data_4 = {'PassengerId': test.PassengerId, 'Survived': y_hat_vc_all}\n",
    "submission_4 = pd.DataFrame(data=final_data_4)\n",
    "\n",
    "final_data_5 = {'PassengerId': test.PassengerId, 'Survived': y_hat_vc_xgb}\n",
    "submission_5 = pd.DataFrame(data=final_data_5)\n",
    "\n",
    "final_data_comp = {'PassengerId': test.PassengerId, 'Survived_vc_hard': y_hat_vc_hard, 'Survived_rf': y_hat_rf, 'Survived_vc_soft' : y_hat_vc_soft, 'Survived_vc_all' : y_hat_vc_all,  'Survived_vc_xgb' : y_hat_vc_xgb}\n",
    "comparison = pd.DataFrame(data=final_data_comp)"
   ]
  },
  {
   "cell_type": "code",
   "execution_count": null,
   "metadata": {
    "execution": {
     "iopub.execute_input": "2021-04-08T02:42:49.948669Z",
     "iopub.status.busy": "2021-04-08T02:42:49.947585Z",
     "iopub.status.idle": "2021-04-08T02:42:50.023089Z",
     "shell.execute_reply": "2021-04-08T02:42:50.022338Z"
    },
    "papermill": {
     "duration": 0.169028,
     "end_time": "2021-04-08T02:42:50.023240",
     "exception": false,
     "start_time": "2021-04-08T02:42:49.854212",
     "status": "completed"
    },
    "tags": []
   },
   "outputs": [],
   "source": [
    "#track differences between outputs \n",
    "comparison['difference_rf_vc_hard'] = comparison.apply(lambda x: 1 if x.Survived_vc_hard != x.Survived_rf else 0, axis =1)\n",
    "comparison['difference_soft_hard'] = comparison.apply(lambda x: 1 if x.Survived_vc_hard != x.Survived_vc_soft else 0, axis =1)\n",
    "comparison['difference_hard_all'] = comparison.apply(lambda x: 1 if x.Survived_vc_all != x.Survived_vc_hard else 0, axis =1)\n"
   ]
  },
  {
   "cell_type": "code",
   "execution_count": null,
   "metadata": {
    "execution": {
     "iopub.execute_input": "2021-04-08T02:42:50.206534Z",
     "iopub.status.busy": "2021-04-08T02:42:50.205666Z",
     "iopub.status.idle": "2021-04-08T02:42:50.210574Z",
     "shell.execute_reply": "2021-04-08T02:42:50.209855Z"
    },
    "papermill": {
     "duration": 0.099794,
     "end_time": "2021-04-08T02:42:50.210718",
     "exception": false,
     "start_time": "2021-04-08T02:42:50.110924",
     "status": "completed"
    },
    "tags": []
   },
   "outputs": [],
   "source": [
    "comparison.difference_hard_all.value_counts()"
   ]
  },
  {
   "cell_type": "code",
   "execution_count": null,
   "metadata": {
    "execution": {
     "iopub.execute_input": "2021-04-08T02:42:50.391462Z",
     "iopub.status.busy": "2021-04-08T02:42:50.390444Z",
     "iopub.status.idle": "2021-04-08T02:42:50.400680Z",
     "shell.execute_reply": "2021-04-08T02:42:50.401209Z"
    },
    "papermill": {
     "duration": 0.103923,
     "end_time": "2021-04-08T02:42:50.401378",
     "exception": false,
     "start_time": "2021-04-08T02:42:50.297455",
     "status": "completed"
    },
    "tags": []
   },
   "outputs": [],
   "source": [
    "#prepare submission files \n",
    "submission.to_csv('submission_rf.csv', index =False)\n",
    "submission_2.to_csv('submission_vc_hard.csv',index=False)\n",
    "submission_3.to_csv('submission_vc_soft.csv', index=False)\n",
    "submission_4.to_csv('submission_vc_all.csv', index=False)\n",
    "submission_5.to_csv('submission_vc_xgb2.csv', index=False)"
   ]
  }
 ],
 "metadata": {
  "kernelspec": {
   "display_name": "Python 3 (ipykernel)",
   "language": "python",
   "name": "python3"
  },
  "language_info": {
   "codemirror_mode": {
    "name": "ipython",
    "version": 3
   },
   "file_extension": ".py",
   "mimetype": "text/x-python",
   "name": "python",
   "nbconvert_exporter": "python",
   "pygments_lexer": "ipython3",
   "version": "3.10.6"
  },
  "papermill": {
   "duration": 1508.291842,
   "end_time": "2021-04-08T02:42:50.599747",
   "environment_variables": {},
   "exception": null,
   "input_path": "__notebook__.ipynb",
   "output_path": "__notebook__.ipynb",
   "parameters": {},
   "start_time": "2021-04-08T02:17:42.307905",
   "version": "2.1.0"
  }
 },
 "nbformat": 4,
 "nbformat_minor": 4
}
