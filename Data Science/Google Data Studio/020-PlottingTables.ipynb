{
 "cells": [
  {
   "cell_type": "code",
   "execution_count": 24,
   "id": "4cde40a9",
   "metadata": {
    "scrolled": true
   },
   "outputs": [
    {
     "data": {
      "image/png": "[encoded data removed]",
      "text/plain": [
       "<Figure size 432x288 with 1 Axes>"
      ]
     },
     "metadata": {
      "needs_background": "light"
     },
     "output_type": "display_data"
    }
   ],
   "source": [
    "import matplotlib.pyplot as plt\n",
    "\n",
    "data = [\n",
    "    [1, 2, 3, 4, 5],\n",
    "    [2, 4, 6, 8, 10],\n",
    "    [1, 3, 5, 7, 9]\n",
    "]\n",
    "\n",
    "fig,ax = plt.subplots(1, 1)\n",
    "ax.axis('off')\n",
    "ax.set_aspect(0.3)\n",
    "table = ax.table(cellText = data)\n",
    "table.scale(1, 10)"
   ]
  },
  {
   "cell_type": "code",
   "execution_count": 27,
   "id": "085e84a7",
   "metadata": {},
   "outputs": [
    {
     "data": {
      "image/png": "[encoded data removed]",
      "text/plain": [
       "<Figure size 432x288 with 1 Axes>"
      ]
     },
     "metadata": {
      "needs_background": "light"
     },
     "output_type": "display_data"
    }
   ],
   "source": [
    "import matplotlib.pyplot as plt\n",
    "\n",
    "data = [\n",
    "    [1, 2, 3, 4, 5],\n",
    "    [2, 4, 6, 8, 10],\n",
    "    [1, 3, 5, 7, 9]\n",
    "]\n",
    "\n",
    "cols_name = ['ColOne', 'ColTwo', 'ColThree', 'ColFour', 'ColFive']\n",
    "rows_name = ['RowOne', 'RowTwo', 'RowThree']\n",
    "cols_col = ['gray', 'gray', 'gray', 'gray', 'gray']\n",
    "rows_col = ['cyan', 'cyan', 'cyan']\n",
    "\n",
    "colours = [\n",
    "        ['red', 'w', 'w', 'w', 'w'],\n",
    "        ['w', 'w', 'green', 'w', 'w'],\n",
    "        ['w', 'w', 'w', 'w', 'blue'],\n",
    "]\n",
    "\n",
    "fig,ax = plt.subplots(1, 1)\n",
    "ax.axis('off')\n",
    "ax.set_aspect(0.3)\n",
    "table = ax.table(cellText = data, colLabels = cols_name, rowLabels = rows_name, loc = 'upper center', cellLoc = 'center', colColours = cols_col, rowColours = rows_col, cellColours = colours)\n",
    "table.scale(1, 10)\n",
    "plt.savefig('pytable.png', format = 'png')"
   ]
  },
  {
   "cell_type": "code",
   "execution_count": null,
   "id": "97200ef8",
   "metadata": {},
   "outputs": [],
   "source": []
  }
 ],
 "metadata": {
  "kernelspec": {
   "display_name": "Python 3 (ipykernel)",
   "language": "python",
   "name": "python3"
  },
  "language_info": {
   "codemirror_mode": {
    "name": "ipython",
    "version": 3
   },
   "file_extension": ".py",
   "mimetype": "text/x-python",
   "name": "python",
   "nbconvert_exporter": "python",
   "pygments_lexer": "ipython3",
   "version": "3.8.10"
  }
 },
 "nbformat": 4,
 "nbformat_minor": 5
}
